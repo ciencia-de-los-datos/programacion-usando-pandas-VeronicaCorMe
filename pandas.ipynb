{
 "cells": [
  {
   "cell_type": "code",
   "execution_count": 3,
   "metadata": {},
   "outputs": [],
   "source": [
    "import pandas as pd\n",
    "\n",
    "tbl0 = pd.read_csv(\"tbl0.tsv\", sep=\"\\t\")\n",
    "tbl1 = pd.read_csv(\"tbl1.tsv\", sep=\"\\t\")\n",
    "tbl2 = pd.read_csv(\"tbl2.tsv\", sep=\"\\t\")\n",
    "\n"
   ]
  },
  {
   "cell_type": "code",
   "execution_count": 4,
   "metadata": {},
   "outputs": [
    {
     "data": {
      "text/plain": [
       "40"
      ]
     },
     "execution_count": 4,
     "metadata": {},
     "output_type": "execute_result"
    }
   ],
   "source": [
    "def pregunta_01():\n",
    "    \"\"\"\n",
    "    ¿Cuál es la cantidad de filas en la tabla `tbl0.tsv`?\n",
    "\n",
    "    Rta/\n",
    "    40\n",
    "\n",
    "    \"\"\"\n",
    "    #la importacion de pandas permite la lectura de archivos csv directamente como \"data frames\" de ahi que podamos aplicar\n",
    "    # metodos y funciones propios de objetos directamente a la variable que contiene los datos sin tener que recorrerla.\n",
    "    #el truco es que se entiende cada elemento de la base de datos como un elemento con un tipo determinado\n",
    "    # y no como strings o cadenas de texto\n",
    "\n",
    "    len_t=len(tbl0)\n",
    "    return len_t\n",
    "pregunta_01()"
   ]
  },
  {
   "cell_type": "code",
   "execution_count": 7,
   "metadata": {},
   "outputs": [
    {
     "data": {
      "text/plain": [
       "4"
      ]
     },
     "execution_count": 7,
     "metadata": {},
     "output_type": "execute_result"
    }
   ],
   "source": [
    "def pregunta_02():\n",
    "    \"\"\"\n",
    "    ¿Cuál es la cantidad de columnas en la tabla `tbl0.tsv`?\n",
    "\n",
    "    Rta/\n",
    "    4\n",
    "\n",
    "    \"\"\"\n",
    "    #el metodo .shape devuelve una tupla (fila, columnas) del archivo csv, por lectura de tuplas si solo\n",
    "    # se necesitan las columnas, solo se necesita tomar el elemento 2 de la tupla generada por .shape \n",
    "    cant_col=tbl0.shape\n",
    "\n",
    "    return cant_col[1]\n",
    "pregunta_02()\n"
   ]
  },
  {
   "cell_type": "code",
   "execution_count": 8,
   "metadata": {},
   "outputs": [
    {
     "data": {
      "text/plain": [
       "Index(['_c0', '_c1', '_c2', '_c3'], dtype='object')"
      ]
     },
     "execution_count": 8,
     "metadata": {},
     "output_type": "execute_result"
    }
   ],
   "source": [
    "#para saber el nombre de las columnas se usa el metodo .columns, genera una tupla index(lista de nombres, lista de types)\n",
    "#Hagase enfasis en \"lista\". Por lo tanto al primer elemento generado por .columns se le puede aplicar métodos de listas.\n",
    "tbl0.columns"
   ]
  },
  {
   "cell_type": "code",
   "execution_count": 11,
   "metadata": {},
   "outputs": [
    {
     "data": {
      "text/html": [
       "<div>\n",
       "<style scoped>\n",
       "    .dataframe tbody tr th:only-of-type {\n",
       "        vertical-align: middle;\n",
       "    }\n",
       "\n",
       "    .dataframe tbody tr th {\n",
       "        vertical-align: top;\n",
       "    }\n",
       "\n",
       "    .dataframe thead th {\n",
       "        text-align: right;\n",
       "    }\n",
       "</style>\n",
       "<table border=\"1\" class=\"dataframe\">\n",
       "  <thead>\n",
       "    <tr style=\"text-align: right;\">\n",
       "      <th></th>\n",
       "      <th>_c0</th>\n",
       "      <th>_c1</th>\n",
       "      <th>_c2</th>\n",
       "      <th>_c3</th>\n",
       "    </tr>\n",
       "  </thead>\n",
       "  <tbody>\n",
       "    <tr>\n",
       "      <th>0</th>\n",
       "      <td>0</td>\n",
       "      <td>E</td>\n",
       "      <td>1</td>\n",
       "      <td>1999-02-28</td>\n",
       "    </tr>\n",
       "    <tr>\n",
       "      <th>1</th>\n",
       "      <td>1</td>\n",
       "      <td>A</td>\n",
       "      <td>2</td>\n",
       "      <td>1999-10-28</td>\n",
       "    </tr>\n",
       "    <tr>\n",
       "      <th>2</th>\n",
       "      <td>2</td>\n",
       "      <td>B</td>\n",
       "      <td>5</td>\n",
       "      <td>1998-05-02</td>\n",
       "    </tr>\n",
       "    <tr>\n",
       "      <th>3</th>\n",
       "      <td>3</td>\n",
       "      <td>A</td>\n",
       "      <td>3</td>\n",
       "      <td>1999-08-28</td>\n",
       "    </tr>\n",
       "    <tr>\n",
       "      <th>4</th>\n",
       "      <td>4</td>\n",
       "      <td>C</td>\n",
       "      <td>6</td>\n",
       "      <td>1999-12-01</td>\n",
       "    </tr>\n",
       "  </tbody>\n",
       "</table>\n",
       "</div>"
      ],
      "text/plain": [
       "   _c0 _c1  _c2         _c3\n",
       "0    0   E    1  1999-02-28\n",
       "1    1   A    2  1999-10-28\n",
       "2    2   B    5  1998-05-02\n",
       "3    3   A    3  1999-08-28\n",
       "4    4   C    6  1999-12-01"
      ]
     },
     "execution_count": 11,
     "metadata": {},
     "output_type": "execute_result"
    }
   ],
   "source": [
    "#el metodo .head() requiere parentesis\n",
    "tbl0.head()"
   ]
  },
  {
   "cell_type": "code",
   "execution_count": null,
   "metadata": {},
   "outputs": [],
   "source": [
    "def pregunta_03():\n",
    "    \"\"\"\n",
    "    ¿Cuál es la cantidad de registros por cada letra de la columna _c1 del archivo\n",
    "    `tbl0.tsv`?\n",
    "\n",
    "    Rta/\n",
    "    A     8\n",
    "    B     7\n",
    "    C     5\n",
    "    D     6\n",
    "    E    14\n",
    "    Name: _c1, dtype: int64\n",
    "\n",
    "    \"\"\"\n",
    "    return\n"
   ]
  },
  {
   "cell_type": "code",
   "execution_count": null,
   "metadata": {},
   "outputs": [],
   "source": [
    "def pregunta_04():\n",
    "    \"\"\"\n",
    "    Calcule el promedio de _c2 por cada letra de la _c1 del archivo `tbl0.tsv`.\n",
    "\n",
    "    Rta/\n",
    "    A    4.625000\n",
    "    B    5.142857\n",
    "    C    5.400000\n",
    "    D    3.833333\n",
    "    E    4.785714\n",
    "    Name: _c2, dtype: float64\n",
    "    \"\"\"\n",
    "    return\n",
    "\n"
   ]
  },
  {
   "cell_type": "code",
   "execution_count": null,
   "metadata": {},
   "outputs": [],
   "source": [
    "def pregunta_05():\n",
    "    \"\"\"\n",
    "    Calcule el valor máximo de _c2 por cada letra en la columna _c1 del archivo\n",
    "    `tbl0.tsv`.\n",
    "\n",
    "    Rta/\n",
    "    _c1\n",
    "    A    9\n",
    "    B    9\n",
    "    C    9\n",
    "    D    7\n",
    "    E    9\n",
    "    Name: _c2, dtype: int64\n",
    "    \"\"\"\n",
    "    return\n",
    "\n"
   ]
  },
  {
   "cell_type": "code",
   "execution_count": null,
   "metadata": {},
   "outputs": [],
   "source": [
    "def pregunta_06():\n",
    "    \"\"\"\n",
    "    Retorne una lista con los valores unicos de la columna _c4 de del archivo `tbl1.csv`\n",
    "    en mayusculas y ordenados alfabéticamente.\n",
    "\n",
    "    Rta/\n",
    "    ['A', 'B', 'C', 'D', 'E', 'F', 'G']\n",
    "\n",
    "    \"\"\"\n",
    "    return\n"
   ]
  },
  {
   "cell_type": "code",
   "execution_count": null,
   "metadata": {},
   "outputs": [],
   "source": [
    "def pregunta_07():\n",
    "    \"\"\"\n",
    "    Calcule la suma de la _c2 por cada letra de la _c1 del archivo `tbl0.tsv`.\n",
    "\n",
    "    Rta/\n",
    "    _c1\n",
    "    A    37\n",
    "    B    36\n",
    "    C    27\n",
    "    D    23\n",
    "    E    67\n",
    "    Name: _c2, dtype: int64\n",
    "    \"\"\"\n",
    "    return\n",
    "\n"
   ]
  },
  {
   "cell_type": "code",
   "execution_count": null,
   "metadata": {},
   "outputs": [],
   "source": [
    "def pregunta_08():\n",
    "    \"\"\"\n",
    "    Agregue una columna llamada `suma` con la suma de _c0 y _c2 al archivo `tbl0.tsv`.\n",
    "\n",
    "    Rta/\n",
    "        _c0 _c1  _c2         _c3  suma\n",
    "    0     0   E    1  1999-02-28     1\n",
    "    1     1   A    2  1999-10-28     3\n",
    "    2     2   B    5  1998-05-02     7\n",
    "    ...\n",
    "    37   37   C    9  1997-07-22    46\n",
    "    38   38   E    1  1999-09-28    39\n",
    "    39   39   E    5  1998-01-26    44\n",
    "\n",
    "    \"\"\"\n",
    "    return\n",
    "\n"
   ]
  },
  {
   "cell_type": "code",
   "execution_count": null,
   "metadata": {},
   "outputs": [],
   "source": [
    "def pregunta_09():\n",
    "    \"\"\"\n",
    "    Agregue el año como una columna al archivo `tbl0.tsv`.\n",
    "\n",
    "    Rta/\n",
    "        _c0 _c1  _c2         _c3  year\n",
    "    0     0   E    1  1999-02-28  1999\n",
    "    1     1   A    2  1999-10-28  1999\n",
    "    2     2   B    5  1998-05-02  1998\n",
    "    ...\n",
    "    37   37   C    9  1997-07-22  1997\n",
    "    38   38   E    1  1999-09-28  1999\n",
    "    39   39   E    5  1998-01-26  1998\n",
    "\n",
    "    \"\"\"\n",
    "    return\n"
   ]
  },
  {
   "cell_type": "code",
   "execution_count": null,
   "metadata": {},
   "outputs": [],
   "source": [
    "def pregunta_10():\n",
    "    \"\"\"\n",
    "    Construya una tabla que contenga _c1 y una lista separada por ':' de los valores de\n",
    "    la columna _c2 para el archivo `tbl0.tsv`.\n",
    "\n",
    "    Rta/\n",
    "                                   _c1\n",
    "      _c0\n",
    "    0   A              1:1:2:3:6:7:8:9\n",
    "    1   B                1:3:4:5:6:8:9\n",
    "    2   C                    0:5:6:7:9\n",
    "    3   D                  1:2:3:5:5:7\n",
    "    4   E  1:1:2:3:3:4:5:5:5:6:7:8:8:9\n",
    "    \"\"\"\n",
    "    return\n"
   ]
  },
  {
   "cell_type": "code",
   "execution_count": null,
   "metadata": {},
   "outputs": [],
   "source": [
    "def pregunta_11():\n",
    "    \"\"\"\n",
    "    Construya una tabla que contenga _c0 y una lista separada por ',' de los valores de\n",
    "    la columna _c4 del archivo `tbl1.tsv`.\n",
    "\n",
    "    Rta/\n",
    "        _c0      _c4\n",
    "    0     0    b,f,g\n",
    "    1     1    a,c,f\n",
    "    2     2  a,c,e,f\n",
    "    3     3      a,b\n",
    "    ...\n",
    "    37   37  a,c,e,f\n",
    "    38   38      d,e\n",
    "    39   39    a,d,f\n",
    "    \"\"\"\n",
    "    return\n"
   ]
  },
  {
   "cell_type": "code",
   "execution_count": null,
   "metadata": {},
   "outputs": [],
   "source": [
    "def pregunta_12():\n",
    "    \"\"\"\n",
    "    Construya una tabla que contenga _c0 y una lista separada por ',' de los valores de\n",
    "    la columna _c5a y _c5b (unidos por ':') de la tabla `tbl2.tsv`.\n",
    "\n",
    "    Rta/\n",
    "        _c0                                  _c5\n",
    "    0     0        bbb:0,ddd:9,ggg:8,hhh:2,jjj:3\n",
    "    1     1              aaa:3,ccc:2,ddd:0,hhh:9\n",
    "    2     2              ccc:6,ddd:2,ggg:5,jjj:1\n",
    "    ...\n",
    "    37   37                    eee:0,fff:2,hhh:6\n",
    "    38   38                    eee:0,fff:9,iii:2\n",
    "    39   39                    ggg:3,hhh:8,jjj:5\n",
    "    \"\"\"\n",
    "    return\n"
   ]
  },
  {
   "cell_type": "code",
   "execution_count": null,
   "metadata": {},
   "outputs": [],
   "source": [
    "def pregunta_13():\n",
    "    \"\"\"\n",
    "    Si la columna _c0 es la clave en los archivos `tbl0.tsv` y `tbl2.tsv`, compute la\n",
    "    suma de tbl2._c5b por cada valor en tbl0._c1.\n",
    "\n",
    "    Rta/\n",
    "    _c1\n",
    "    A    146\n",
    "    B    134\n",
    "    C     81\n",
    "    D    112\n",
    "    E    275\n",
    "    Name: _c5b, dtype: int64\n",
    "    \"\"\"\n",
    "    return"
   ]
  }
 ],
 "metadata": {
  "interpreter": {
   "hash": "34ad63bf49f866b27e70536ce53faf627ac1396ad9c2da9d3c92918808e3f57f"
  },
  "kernelspec": {
   "display_name": "Python 3.9.7 ('base')",
   "language": "python",
   "name": "python3"
  },
  "language_info": {
   "codemirror_mode": {
    "name": "ipython",
    "version": 3
   },
   "file_extension": ".py",
   "mimetype": "text/x-python",
   "name": "python",
   "nbconvert_exporter": "python",
   "pygments_lexer": "ipython3",
   "version": "3.9.7"
  },
  "orig_nbformat": 4
 },
 "nbformat": 4,
 "nbformat_minor": 2
}
